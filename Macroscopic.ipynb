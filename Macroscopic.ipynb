{
 "cells": [
  {
   "cell_type": "code",
   "execution_count": 1,
   "id": "9a76576e",
   "metadata": {},
   "outputs": [
    {
     "data": {
      "image/png": "[encoded data removed]",
      "text/plain": [
       "<Figure size 432x288 with 2 Axes>"
      ]
     },
     "metadata": {
      "needs_background": "light"
     },
     "output_type": "display_data"
    },
    {
     "name": "stdout",
     "output_type": "stream",
     "text": [
      "29891700000000\n",
      "0.1299639130434783\n"
     ]
    }
   ],
   "source": [
    "import numpy as np\n",
    "import math\n",
    "import matplotlib.pyplot as plt\n",
    "\n",
    "#Newtonian acceleration\n",
    "def acl(M, r, softening):\n",
    "    \n",
    "    return -M/(r**2 + softening);\n",
    "\n",
    "#Derivative of energy density from Friedmann's equations\n",
    "def f(rho):\n",
    "    \n",
    "    return -3*(8*math.pi/3)**(1/2)*(rho)**(3/2);\n",
    "\n",
    "#Derivative of the scale factor from Friedmann's equations\n",
    "def g(a, rho):\n",
    "    \n",
    "    return (8*math.pi*rho/3)**(1/2)*a;\n",
    "    \n",
    "def main():\n",
    "    \n",
    "    #Creating variables for constants and some variables\n",
    "    m = 10**(6);\n",
    "    a = 10**(5);\n",
    "    softening = 10**2;\n",
    "\n",
    "    rho = 10**(-3)*a**(-3)*m**(-2);\n",
    "\n",
    "    R = 10**(3/2)*(8*math.pi/3)**(-1/2)*a**(3/2);\n",
    "    R = R*2*m;\n",
    "\n",
    "    M = (8*math.pi/3)*R**(3)*rho;\n",
    "\n",
    "    x = R;\n",
    "    v = 0;\n",
    "    acc = acl(M, x, softening);\n",
    "    \n",
    "    t = 0;\n",
    "    dt = 5*10**7;\n",
    "    \n",
    "    #Arrays to store values of x, t, and M\n",
    "    arrayx = [x];\n",
    "    arrayt = [t];\n",
    "    arrayM = [M];\n",
    "    \n",
    "    while (x > 0):\n",
    "        \n",
    "        #Leapfrog Integration\n",
    "        x += v*dt + 0.5*acc*dt**(2);\n",
    "        v = 0.5*acc*dt**(2);\n",
    "        \n",
    "        #RK4 to advance rho and a\n",
    "        h = dt;\n",
    "        k1 = f(rho);\n",
    "        k2 = f(rho + h*k1/2);\n",
    "        k3 = f(rho + h*k2/2);\n",
    "        k4 = f(rho + h*k3);\n",
    "        \n",
    "        rho += h/6 * (k1 + 2*k2 + 2*k3 + k4);\n",
    "        \n",
    "        l1 = g(a, rho);\n",
    "        l2 = g(a + h*l1/2, rho);\n",
    "        l3 = g(a + h*l2/2, rho);\n",
    "        l4 = g(a + h*l3, rho);\n",
    "        \n",
    "        a += h/6 * (l1 + 2*l2 + 2*l3 + l4);\n",
    "        \n",
    "        R = 10**(3/2)*(8*math.pi/3)**(-1/2)*a**(3/2);\n",
    "        R = R*2*m;\n",
    "        M = (8*math.pi/3)*R**(3)*rho;\n",
    "        \n",
    "        #Completion of Leapfrog Integration\n",
    "        acc = acl(M, x, softening);\n",
    "        v = 0.5*acc*dt**(2);\n",
    "        \n",
    "        t += dt;\n",
    "        \n",
    "        if (x > 0):\n",
    "            \n",
    "            arrayx.append(x);\n",
    "            arrayt.append(t);\n",
    "            arrayM.append(M);\n",
    "    \n",
    "    #Plotting x vs. t and M vs. t\n",
    "    fig, ax1 = plt.subplots()\n",
    "    \n",
    "    ax1.plot(arrayt, arrayx, c='blue');\n",
    "    ax1.set_xlabel(\"Time\");\n",
    "    ax1.set_ylabel(\"Position\");\n",
    "\n",
    "    ax2 = ax1.twinx();\n",
    "    ax2.plot(arrayt, arrayM, c='red');\n",
    "    ax2.set_ylabel(\"Mass\");\n",
    "    \n",
    "#     plt.legend(loc=\"upper left\");\n",
    "    plt.title(\"Position and Mass vs. Time\");\n",
    "    fig.tight_layout();\n",
    "    plt.show();\n",
    "    \n",
    "    return t;\n",
    "\n",
    "if __name__== \"__main__\":\n",
    "    \n",
    "    t = main();\n",
    "    print(t);\n",
    "    print(t/(2.3*10**(14)));"
   ]
  },
  {
   "cell_type": "code",
   "execution_count": null,
   "id": "79cb021e",
   "metadata": {},
   "outputs": [],
   "source": []
  }
 ],
 "metadata": {
  "kernelspec": {
   "display_name": "Python 3",
   "language": "python",
   "name": "python3"
  },
  "language_info": {
   "codemirror_mode": {
    "name": "ipython",
    "version": 3
   },
   "file_extension": ".py",
   "mimetype": "text/x-python",
   "name": "python",
   "nbconvert_exporter": "python",
   "pygments_lexer": "ipython3",
   "version": "3.8.8"
  }
 },
 "nbformat": 4,
 "nbformat_minor": 5
}
